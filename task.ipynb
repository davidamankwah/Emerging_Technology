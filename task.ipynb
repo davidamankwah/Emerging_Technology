{
 "cells": [
  {
   "cell_type": "markdown",
   "metadata": {},
   "source": [
    "# Task 1\n",
    "Here are my answers for task 1. The author is David Amankwah (G00394825@atu.ie)"
   ]
  },
  {
   "cell_type": "markdown",
   "metadata": {},
   "source": [
    " I use Python to implement the Collatz conjecture and verify its behavior for the first 10,000 positive integers. \n",
    "\n",
    " The collat​z_sequence generates a Collaz sequence for a given positive integer, verify_collatz_conjecture verifies the first limiting positive integer conjecture. The script then calls verify_collatz_conjecture (limited to 10,000) and prints a message if the Collatz conjecture does not apply to any of the test numbers."
   ]
  },
  {
   "cell_type": "code",
   "execution_count": 2,
   "metadata": {},
   "outputs": [
    {
     "name": "stdout",
     "output_type": "stream",
     "text": [
      "Collatz conjecture is not true for 1\n",
      "Collatz conjecture is not true for 2\n",
      "Verification complete.\n"
     ]
    }
   ],
   "source": [
    "def collatz_sequence(n):\n",
    "    sequence = [n]\n",
    "    while n != 1:\n",
    "        if n % 2 == 0:\n",
    "            n //= 2\n",
    "        else:\n",
    "            n = 3 * n + 1\n",
    "        sequence.append(n)\n",
    "    return sequence\n",
    "\n",
    "def verify_collatz_conjecture(limit):\n",
    "    for i in range(1, limit + 1):\n",
    "        sequence = collatz_sequence(i)\n",
    "        #Check that the sequence ends with a repeat of 4, 2, 1\n",
    "        if sequence[-3:] != [4, 2, 1]:\n",
    "            print(f\"Collatz conjecture is not true for {i}\")\n",
    "    print(\"Verification complete.\")\n",
    "\n",
    "# Checks the first 10,000 positive integers\n",
    "verify_collatz_conjecture(10000)\n"
   ]
  },
  {
   "cell_type": "markdown",
   "metadata": {},
   "source": [
    "<h3>References:</h3>\n",
    "\n",
    "[1] https://en.wikipedia.org/wiki/Collatz_conjecture\n",
    "\n",
    "[2] https://mathworld.wolfram.com/CollatzProblem.html\n",
    "\n",
    "[3] https://www.youtube.com/watch?v=5mFpVDpKX70&ab_channel=Numberphile"
   ]
  }
 ],
 "metadata": {
  "kernelspec": {
   "display_name": "Python 3",
   "language": "python",
   "name": "python3"
  },
  "language_info": {
   "codemirror_mode": {
    "name": "ipython",
    "version": 3
   },
   "file_extension": ".py",
   "mimetype": "text/x-python",
   "name": "python",
   "nbconvert_exporter": "python",
   "pygments_lexer": "ipython3",
   "version": "3.11.5"
  },
  "orig_nbformat": 4
 },
 "nbformat": 4,
 "nbformat_minor": 2
}
