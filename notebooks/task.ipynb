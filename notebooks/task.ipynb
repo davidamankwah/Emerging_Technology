{
 "cells": [
  {
   "cell_type": "markdown",
   "metadata": {},
   "source": [
    "# Task 1\n",
    "Here are my answers for task 1. The author is David Amankwah (G00394825@atu.ie)"
   ]
  },
  {
   "cell_type": "markdown",
   "metadata": {},
   "source": [
    " I use Python to implement the Collatz conjecture and verify its behavior for the first 10,000 positive integers. \n",
    "\n",
    " The collat​z_sequence generates a Collaz sequence for a given positive integer, verify_collatz_conjecture verifies the first limiting positive integer conjecture. The script then calls verify_collatz_conjecture (limited to 10,000) and prints a message if the Collatz conjecture does not apply to any of the test numbers."
   ]
  },
  {
   "cell_type": "code",
   "execution_count": 2,
   "metadata": {},
   "outputs": [
    {
     "name": "stdout",
     "output_type": "stream",
     "text": [
      "Collatz conjecture is not true for 1\n",
      "Collatz conjecture is not true for 2\n",
      "Verification complete.\n"
     ]
    }
   ],
   "source": [
    "def collatz_sequence(n):\n",
    "    sequence = [n]\n",
    "    while n != 1:\n",
    "        if n % 2 == 0:\n",
    "            n //= 2\n",
    "        else:\n",
    "            n = 3 * n + 1\n",
    "        sequence.append(n)\n",
    "    return sequence\n",
    "\n",
    "def verify_collatz_conjecture(limit):\n",
    "    for i in range(1, limit + 1):\n",
    "        sequence = collatz_sequence(i)\n",
    "        #Check that the sequence ends with a repeat of 4, 2, 1\n",
    "        if sequence[-3:] != [4, 2, 1]:\n",
    "            print(f\"Collatz conjecture is not true for {i}\")\n",
    "    print(\"Verification complete.\")\n",
    "\n",
    "# Checks the first 10,000 positive integers\n",
    "verify_collatz_conjecture(10000)\n"
   ]
  },
  {
   "cell_type": "markdown",
   "metadata": {},
   "source": [
    "<h3>References:</h3>\n",
    "\n",
    "[1] https://en.wikipedia.org/wiki/Collatz_conjecture\n",
    "\n",
    "[2] https://mathworld.wolfram.com/CollatzProblem.html\n",
    "\n",
    "[3] https://www.youtube.com/watch?v=5mFpVDpKX70&ab_channel=Numberphile"
   ]
  },
  {
   "cell_type": "markdown",
   "metadata": {},
   "source": [
    "# Task 2"
   ]
  },
  {
   "cell_type": "code",
   "execution_count": 4,
   "metadata": {},
   "outputs": [
    {
     "name": "stdout",
     "output_type": "stream",
     "text": [
      "The square root of 16.0 is approximately 4.00\n"
     ]
    }
   ],
   "source": [
    "def sqrt(x, threshold=0.01):\n",
    "    # Initial guess for the square root\n",
    "    z0 = x / 2.0\n",
    "    \n",
    "    while True:\n",
    "        # Newton's method iteration\n",
    "        z1 = z0 - (z0**2 - x) / (2 * z0)\n",
    "        \n",
    "        # Check if the difference between consecutive guesses is below the threshold\n",
    "        if abs(z1 - z0) < threshold:\n",
    "            return z1  # Return the final approximation when the threshold is met\n",
    "        \n",
    "        # Update the guess for the next iteration\n",
    "        z0 = z1\n",
    "\n",
    "# Example usage:\n",
    "x = 16.0\n",
    "result = sqrt(x)\n",
    "print(f\"The square root of {x} is approximately {result:.2f}\")\n"
   ]
  },
  {
   "cell_type": "markdown",
   "metadata": {},
   "source": [
    "I implemented the following Newton's method using the iteration formula provided. I can adjust the threshold value to control the precision of the approximation. Smaller thresholds provide more accurate results but require more iterations.\n",
    "\n",
    "\n",
    "Here I use Newton's method in Python to use a different implementation of the square root approximation:\n"
   ]
  },
  {
   "cell_type": "code",
   "execution_count": 5,
   "metadata": {},
   "outputs": [
    {
     "name": "stdout",
     "output_type": "stream",
     "text": [
      "The square root of 16.0 is approximately 4.00\n"
     ]
    }
   ],
   "source": [
    "def sqrt_newton(x, threshold=0.01, max_iterations=100):\n",
    "    # Initial guess for the square root\n",
    "    z0 = x / 2.0\n",
    "    \n",
    "    # Perform max_iterations iterations\n",
    "    for _ in range(max_iterations):\n",
    "        # Newton's method iteration\n",
    "        z1 = z0 - (z0**2 - x) / (2 * z0)\n",
    "        \n",
    "        # Examine if the difference between guesses is below the threshold\n",
    "        if abs(z1 - z0) < threshold:\n",
    "            return z1  # Return the final approximation when threshold is met\n",
    "        \n",
    "        # Update the guess for the next iteration\n",
    "        z0 = z1\n",
    "    \n",
    "    # If max_iterations is achieved, return the current approximation\n",
    "    return z0\n",
    "\n",
    "# Example use:\n",
    "x = 16.0\n",
    "result = sqrt_newton(x)\n",
    "print(f\"The square root of {x} is approximately {result:.2f}\")\n"
   ]
  },
  {
   "cell_type": "markdown",
   "metadata": {},
   "source": [
    "In this version, I added a max_iterations parameter to limit the number of iterations. If the threshold indicated is not reached in the maximum number of iterations, the function returns the last approximation.\n"
   ]
  },
  {
   "cell_type": "markdown",
   "metadata": {},
   "source": [
    "<h3>References:</h3>\n",
    "\n",
    "[1] https://en.wikipedia.org/wiki/Newton%27s_method\n",
    "\n",
    "[2] https://docs.scipy.org/doc/scipy/reference/optimize.html\n"
   ]
  }
 ],
 "metadata": {
  "kernelspec": {
   "display_name": "Python 3",
   "language": "python",
   "name": "python3"
  },
  "language_info": {
   "codemirror_mode": {
    "name": "ipython",
    "version": 3
   },
   "file_extension": ".py",
   "mimetype": "text/x-python",
   "name": "python",
   "nbconvert_exporter": "python",
   "pygments_lexer": "ipython3",
   "version": "3.11.5"
  },
  "orig_nbformat": 4
 },
 "nbformat": 4,
 "nbformat_minor": 2
}
