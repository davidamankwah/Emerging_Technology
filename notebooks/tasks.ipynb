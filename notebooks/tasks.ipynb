{
 "cells": [
  {
   "cell_type": "markdown",
   "metadata": {},
   "source": [
    "## Assessment Tasks\n",
    "The author is David Amankwah (G00394825@atu.ie).\n",
    "\n",
    "I plan to use ChatGPT to help write the code as I go into detailed explanation of the approach and logic used. I am ready to understand the task by providing my explanations and comments. There are tasks for me to work on.\n"
   ]
  },
  {
   "cell_type": "markdown",
   "metadata": {},
   "source": [
    "# Task 1\n",
    "The Collatz Conjecture is an unsolved mathematical problem involving a simple mathematical function applied iteratively to positive integers. The iterative process of the Collatz conjecture starts from a positive integer n. Check if n is even, then divide by 2. Check whether n is odd, multiply it by 3 and add 1. Continue checking whether n is even or odd until the number reaches 1. [1] \n",
    "Here is my answer for task 1. \n",
    "\n",
    "This task is to verify, using Python, that the conjecture is true for\n",
    "the first 10,000 positive integers."
   ]
  },
  {
   "cell_type": "markdown",
   "metadata": {},
   "source": [
    " The collat​z_sequence function generates a Collaz sequence for a given positive integer. The verify_collatz_conjecture function checks the first limiting positive integer conjecture. The script then calls verify_collatz_conjecture (limited to 10,000) and prints a message if the Collatz conjecture does not apply to any of the test numbers."
   ]
  },
  {
   "cell_type": "code",
   "execution_count": 6,
   "metadata": {},
   "outputs": [
    {
     "name": "stdout",
     "output_type": "stream",
     "text": [
      "Collatz conjecture is not true for 1\n",
      "Collatz conjecture is not true for 2\n",
      "Verification complete.\n"
     ]
    }
   ],
   "source": [
    "def collatz_sequence(n):\n",
    "    sequence = [n]\n",
    "    while n != 1:\n",
    "        if n % 2 == 0:\n",
    "            n //= 2\n",
    "        else:\n",
    "            n = 3 * n + 1\n",
    "        sequence.append(n)\n",
    "    return sequence\n",
    "\n",
    "def verify_collatz(limit):\n",
    "    for i in range(1, limit + 1):\n",
    "        sequence = collatz_sequence(i)\n",
    "#Check if the sequence ends by repeating 4,2,1\n",
    "        if sequence[-3:] != [4, 2, 1]:\n",
    "            print(f\"Collatz conjecture is not true for {i}\")\n",
    "    print(\"Verification complete.\")\n",
    "\n",
    "# Checks the 10,000 positive integers\n",
    "verify_collatz(10000)"
   ]
  },
  {
   "cell_type": "markdown",
   "metadata": {},
   "source": [
    "# Task 2\n",
    "Newton’s Method is an iterative numerical technique that can approximate solutions to an equation. The Newton Method starts with an initial guess close to the true root (solution) and improve the guess iteratively. we keep using this process until convergence. [2] \n",
    "\n",
    "Here is my answer for task 2\n",
    "\n",
    "This tast is to start with an initial guess for the square root and repeatedly\n",
    "improve, until the difference between some previous guess zi and the next zi+1\n",
    "is less than some threshold"
   ]
  },
  {
   "cell_type": "code",
   "execution_count": 2,
   "metadata": {},
   "outputs": [
    {
     "name": "stdout",
     "output_type": "stream",
     "text": [
      "The square root of 16.0 is approximately 4.00\n"
     ]
    }
   ],
   "source": [
    "def sqrt(x, threshold=0.01):\n",
    "    # Initial guess for the square root\n",
    "    z0 = x / 2.0\n",
    "    \n",
    "    while True:\n",
    "        # Newton's method iteration\n",
    "        z1 = z0 - (z0**2 - x) / (2 * z0)\n",
    "        \n",
    "        # Check if the difference between consecutive guesses is below the threshold\n",
    "        if abs(z1 - z0) < threshold:\n",
    "            return z1  # Return the final approximation when the threshold is met\n",
    "        \n",
    "        # Update the guess for the next iteration\n",
    "        z0 = z1\n",
    "\n",
    "# Example usage:\n",
    "x = 16.0\n",
    "result = sqrt(x)\n",
    "print(f\"The square root of {x} is approximately {result:.2f}\")\n"
   ]
  },
  {
   "cell_type": "markdown",
   "metadata": {},
   "source": [
    "The Python code above uses the following Newton's method for the iteration formula provided. The code adjust the threshold value to control the precision of the approximation. Smaller thresholds provide more accurate results but require more iterations.\n",
    "\n",
    "The code below is a Newton's method in Python that uses a different implementation of the square root approximation:\n"
   ]
  },
  {
   "cell_type": "code",
   "execution_count": 3,
   "metadata": {},
   "outputs": [
    {
     "name": "stdout",
     "output_type": "stream",
     "text": [
      "The square root of 16.0 is approximately 4.00\n"
     ]
    }
   ],
   "source": [
    "def sqrt_newton(x, threshold=0.01, max_iterations=100):\n",
    "    # Initial guess for the square root\n",
    "    z0 = x / 2.0\n",
    "    \n",
    "    # Perform max_iterations iterations\n",
    "    for _ in range(max_iterations):\n",
    "        # Newton's method iteration\n",
    "        z1 = z0 - (z0**2 - x) / (2 * z0)\n",
    "        \n",
    "        # Examine if the difference between guesses is below the threshold\n",
    "        if abs(z1 - z0) < threshold:\n",
    "            return z1  # Return the final approximation when threshold is met\n",
    "        \n",
    "        # Update the guess for the next iteration\n",
    "        z0 = z1\n",
    "    \n",
    "    # If max_iterations is achieved, return the current approximation\n",
    "    return z0\n",
    "\n",
    "# Example use:\n",
    "x = 16.0\n",
    "result = sqrt_newton(x)\n",
    "print(f\"The square root of {x} is approximately {result:.2f}\")\n"
   ]
  },
  {
   "cell_type": "markdown",
   "metadata": {},
   "source": [
    "In this version, a max_iterations parameter limits the number of iterations. If the threshold indicated is not reached in the maximum number of iterations, the function returns the last approximation.\n"
   ]
  },
  {
   "cell_type": "markdown",
   "metadata": {},
   "source": [
    "## Task 3\n",
    "\n",
    "Here is my answer for Task 3\n",
    "\n",
    "This task is to write a python code to select possible functions at random.\n",
    "\n",
    "In this code, the random_function function takes a list of four input bits and randomly returns 0 or 1. We generate a random input and call the function to get the corresponding output.\n"
   ]
  },
  {
   "cell_type": "code",
   "execution_count": 2,
   "metadata": {},
   "outputs": [
    {
     "name": "stdout",
     "output_type": "stream",
     "text": [
      "Input: [1, 1, 1, 1], Output: 0\n"
     ]
    }
   ],
   "source": [
    "import random\n",
    "\n",
    "def random_function(input_bits):\n",
    "    return random.choice([0, 1])\n",
    "\n",
    "# create input and call functoion to output one bit.\n",
    "input_bits = [random.choice([0, 1]) for _ in range(4)]\n",
    "output_bit = random_function(input_bits)\n",
    "print(f\"Input: {input_bits}, Output: {output_bit}\")\n"
   ]
  },
  {
   "cell_type": "markdown",
   "metadata": {},
   "source": [
    "<h3>References:</h3>\n",
    "\n",
    "[1] https://medium.com/illumination/the-collatz-conjecture-the-mathematical-problem-that-no-one-can-solve-9ab14a8be026\n",
    "\n",
    "[2] https://calcworkshop.com/derivatives/newtons-method/\n"
   ]
  }
 ],
 "metadata": {
  "kernelspec": {
   "display_name": "Python 3",
   "language": "python",
   "name": "python3"
  },
  "language_info": {
   "codemirror_mode": {
    "name": "ipython",
    "version": 3
   },
   "file_extension": ".py",
   "mimetype": "text/x-python",
   "name": "python",
   "nbconvert_exporter": "python",
   "pygments_lexer": "ipython3",
   "version": "3.11.5"
  },
  "orig_nbformat": 4
 },
 "nbformat": 4,
 "nbformat_minor": 2
}
