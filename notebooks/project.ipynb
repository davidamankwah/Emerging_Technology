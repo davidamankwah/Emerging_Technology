{
 "cells": [
  {
   "cell_type": "markdown",
   "metadata": {},
   "source": [
    "## Deutsch’s Algorithm\n",
    "The author is David Amankwah (G00394825@atu.ie).\n",
    "\n",
    "This notebook will explore the Deutsch’s Algorithm."
   ]
  },
  {
   "cell_type": "markdown",
   "metadata": {},
   "source": [
    "Deutsch's algorithm is a quantum algorithm developed by David Deutsch in 1985. The algorithm was made to be simple and speeds up search. It was unlike any other classical algorithm. The algorithm checks whether or not a function has a certain property. Deutsch's algorithm involves determining whether a binary function is constant or balanced [1]. The Deutsch algorithm has become an important part of quantum computing because it outperforms classical algorithms in certain aspects. The algorithm is able to determine whether a binary function is constant or balanced, it also manages to speed up searches and ensure simplicity and efficiency. This has paved the way for further advancements in the future of quantum computing.\n",
    "\n",
    "The Deutsch problem is difficult for deterministic algorithms. This is a black-box problem that a quantum computer can solve without errors, while a classical computer needs many black-box queries to find a solution to the problem [2]. Classical algortihm are deterministic algorithms that need multiple checks to see if a function is balanced or constant, while Deutsch needs only one query.\n",
    "\n",
    "The Deutsch algorithm is a notable part of quantum computing, as it makes a clear distinction between the quantum and classical domains. The constant functions have the same output for all inputs, and the balanced functions returns a 0 output for half of the inputs and a 1 output for the other half.[3]\n",
    "The Deutsch algorithm can be applied in a relatively limited number of ways. However, certain approaches can be used to determine whether a function is constant or balanced.\n",
    "\n",
    "\n",
    "\n",
    "\n"
   ]
  },
  {
   "cell_type": "markdown",
   "metadata": {},
   "source": [
    "## References\n",
    "[1] https://www.quantum-inspire.com/kbase/deutsch-jozsa-algorithm/.\n",
    "\n",
    "[2] https://en.wikipedia.org/wiki/Deutsch%E2%80%93Jozsa_algorithm.\n",
    "\n",
    "[3] https://www.linkedin.com/pulse/quantum-computing-deutsch-jozsa-algorithm-arun-serr%C3%A3o/"
   ]
  },
  {
   "cell_type": "markdown",
   "metadata": {},
   "source": [
    "## The End"
   ]
  }
 ],
 "metadata": {
  "kernelspec": {
   "display_name": "Python 3",
   "language": "python",
   "name": "python3"
  },
  "language_info": {
   "codemirror_mode": {
    "name": "ipython",
    "version": 3
   },
   "file_extension": ".py",
   "mimetype": "text/x-python",
   "name": "python",
   "nbconvert_exporter": "python",
   "pygments_lexer": "ipython3",
   "version": "3.11.5"
  },
  "orig_nbformat": 4
 },
 "nbformat": 4,
 "nbformat_minor": 2
}
