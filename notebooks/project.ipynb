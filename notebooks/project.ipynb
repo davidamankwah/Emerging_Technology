{
 "cells": [
  {
   "cell_type": "markdown",
   "metadata": {},
   "source": [
    "## Deutsch’s Algorithm\n",
    "\n",
    "This notebook will explore the Deutsch’s Algorithm."
   ]
  },
  {
   "cell_type": "markdown",
   "metadata": {},
   "source": [
    "Deutsch's algorithm is a quantum algorithm developed by David Deutsch in 1985. The algorithm was made to be simple and speeds up search. It was unlike any other classical algorithm. The algorithm checks whether or not a function has a certain property. Deutsch's algorithm involves determining whether a binary function is constant or balanced [1]. \n",
    "\n",
    "The Deutsch problem is difficult for deterministic algorithms. This is a black-box problem that a quantum computer can solve without errors, while a classical computer needs many black-box queries to find a solution to the problem [2]. Classical algortihm are deterministic algorithms that need multiple checks to see if a function is balanced or constant, while Deutsch needs only one query.\n",
    "\n",
    "\n"
   ]
  },
  {
   "cell_type": "markdown",
   "metadata": {},
   "source": [
    "## References\n",
    "[1] https://www.quantum-inspire.com/kbase/deutsch-jozsa-algorithm/.\n",
    "[2] https://en.wikipedia.org/wiki/Deutsch%E2%80%93Jozsa_algorithm."
   ]
  },
  {
   "cell_type": "markdown",
   "metadata": {},
   "source": [
    "## The End"
   ]
  }
 ],
 "metadata": {
  "kernelspec": {
   "display_name": "Python 3",
   "language": "python",
   "name": "python3"
  },
  "language_info": {
   "codemirror_mode": {
    "name": "ipython",
    "version": 3
   },
   "file_extension": ".py",
   "mimetype": "text/x-python",
   "name": "python",
   "nbconvert_exporter": "python",
   "pygments_lexer": "ipython3",
   "version": "3.11.5"
  },
  "orig_nbformat": 4
 },
 "nbformat": 4,
 "nbformat_minor": 2
}
